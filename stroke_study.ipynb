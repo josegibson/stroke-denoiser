{
 "cells": [
  {
   "attachments": {},
   "cell_type": "markdown",
   "metadata": {},
   "source": [
    "Imports"
   ]
  },
  {
   "cell_type": "code",
   "execution_count": 38,
   "metadata": {},
   "outputs": [],
   "source": [
    "import os\n",
    "import xml.etree.ElementTree as ET\n",
    "import cv2\n",
    "import numpy as np\n",
    "import matplotlib.pyplot as plt\n",
    "import glob\n",
    "\n",
    "#use seaborn for plotting defaults\n",
    "import seaborn as sns; sns.set()"
   ]
  },
  {
   "attachments": {},
   "cell_type": "markdown",
   "metadata": {},
   "source": [
    "Data aquisition"
   ]
  },
  {
   "cell_type": "code",
   "execution_count": 39,
   "metadata": {},
   "outputs": [],
   "source": [
    "def from_folder(folder_path):\n",
    "    strokesets = []\n",
    "    xml_paths = glob.glob(os.path.join(folder_path, \"**/*.xml\"), recursive=True)\n",
    "    for xml_path in xml_paths:\n",
    "        tree = ET.parse(xml_path)\n",
    "        _strokesets = tree.find(\".//StrokeSet\")\n",
    "        strokeSet = [np.array([(float(point.get(\"x\")), float(point.get(\"y\")), float(point.get(\"time\")))\n",
    "                               for point in stroke.findall(\"./Point\")]) for stroke in _strokesets.findall(\"./Stroke\")]\n",
    "        strokesets.append(format_strokeset(strokeSet))\n",
    "    return strokesets\n",
    "\n",
    "def format_strokeset(strokeset):\n",
    "    # compute bbox properties of strokeset\n",
    "    pts = np.concatenate(strokeset, axis=0)  # extract the x,y coordinates\n",
    "    pts = pts.reshape((-1, 3))[:, :2]\n",
    "    x_min, y_min = np.min(pts, axis=0)\n",
    "    x_max, y_max = np.max(pts, axis=0)\n",
    "    w, h = x_max - x_min, y_max - y_min\n",
    "    if w == 0 or h == 0:\n",
    "        return None\n",
    "    \n",
    "    # transform the points in the strokeset so that the top-left of the bbox is their origin\n",
    "    # starting time is set to 0 for that substract the first point time from all points time\n",
    "    for stroke in strokeset:\n",
    "        stroke -= [x_min, y_min, stroke[0, 2]]\n",
    "\n",
    "    return strokeset\n",
    "\n",
    "def display_strokeset(strokeset, scale_factor=0.1, title=\"Strokeset\"):\n",
    "    pts = np.concatenate(strokeset, axis=0)\n",
    "    x_min, y_min = np.min(pts[:, :2], axis=0)\n",
    "    x_max, y_max = np.max(pts[:, :2], axis=0)\n",
    "    w, h = int(scale_factor * (x_max - x_min)), int(scale_factor * (y_max - y_min))\n",
    "    if w == 0 or h == 0:\n",
    "        return\n",
    "    image = np.zeros((h, w), dtype=np.uint8)\n",
    "    pts -= [x_min, y_min, 0]\n",
    "    pts *= scale_factor\n",
    "    pts = pts[:, :2]  # remove the z-dimension\n",
    "    pts = pts.astype(np.int32)\n",
    "    strokes = np.split(pts, np.cumsum([len(s) for s in strokeset[:-1]]))\n",
    "    for stroke in strokes:\n",
    "        cv2.polylines(image, [stroke], isClosed=False, color=255, thickness=2)\n",
    "    cv2.imshow(title, image)\n",
    "    cv2.waitKey(0)\n",
    "    cv2.destroyAllWindows()"
   ]
  },
  {
   "cell_type": "code",
   "execution_count": 40,
   "metadata": {},
   "outputs": [],
   "source": [
    "strokesets = from_folder(\"original\")"
   ]
  },
  {
   "cell_type": "code",
   "execution_count": 41,
   "metadata": {},
   "outputs": [
    {
     "data": {
      "text/plain": [
       "783"
      ]
     },
     "execution_count": 41,
     "metadata": {},
     "output_type": "execute_result"
    }
   ],
   "source": [
    "# count the number of stroke in all the 0, 1, 2, 3 stroksets strokes with length less than 300 and greaterthan 2\n",
    "stroke_count = [len(strokeset) for strokeset in strokesets[:4] if strokeset is not None and len(strokeset) < 300 and len(strokeset) > 2]\n",
    "sum(stroke_count)"
   ]
  },
  {
   "attachments": {},
   "cell_type": "markdown",
   "metadata": {},
   "source": [
    "Preprocessing"
   ]
  },
  {
   "cell_type": "code",
   "execution_count": 42,
   "metadata": {},
   "outputs": [],
   "source": [
    "# convert strokesets to a list of strokes efficiently\n",
    "strokes = []   \n",
    "for strokeset in strokesets:\n",
    "    strokes.extend(strokeset)\n",
    "len(strokes)\n",
    "\n",
    "from collections import Counter\n",
    "\n",
    "lengths = [len(stroke) for stroke in strokes]\n",
    "freq_list = dict(Counter(lengths + [0]))\n",
    "\n",
    "\n",
    "# save the sorted dictionary to txt file\n",
    "with open('strokes_length.txt', 'w') as f:\n",
    "    for key in sorted(freq_list.keys()):\n",
    "        f.write(\"%s %s\\n\"%(key, freq_list[key]))\n",
    "\n",
    "#remove every stroke with length greater than 300 and less than 2\n",
    "strokes = [stroke for stroke in strokes if len(stroke) <= 300 and len(stroke) > 2]\n",
    "\n"
   ]
  },
  {
   "cell_type": "code",
   "execution_count": 43,
   "metadata": {},
   "outputs": [],
   "source": [
    "# replace every stroke with length less than 300 with a stroke of length 300\n",
    "max_length = 300\n",
    "strokes = np.array([np.concatenate([stroke, np.zeros((max_length - len(stroke), 3))]) for stroke in strokes])"
   ]
  },
  {
   "cell_type": "code",
   "execution_count": 44,
   "metadata": {},
   "outputs": [],
   "source": [
    "# make each stroke have displacement data instead of absolute coordinates\n",
    "def absolute_to_displacement(strokes):\n",
    "\n",
    "    # get boolean values if the point is (0, 0, 0)\n",
    "    mask = np.all(strokes[:, 1:] == 0, axis=2)\n",
    "\n",
    "    # get the index of first True in each stroke\n",
    "    first_nonzero = np.argmax(mask, axis=1)\n",
    "    \n",
    "    # Find the differences between consecutive points\n",
    "    displacements = np.diff(strokes, axis=1)\n",
    "\n",
    "    # replace the first non zero point with (0, 0, 0) using the first_nonzero index\n",
    "    displacements[np.arange(len(displacements)), first_nonzero] = 0\n",
    "\n",
    "    # add a point with (0, 0, 0) at the end to make the length of the stroke 300\n",
    "    displacements = np.concatenate([displacements, np.zeros((len(displacements), 1, 3)).astype(np.int32)], axis=1)\n",
    "\n",
    "    return displacements\n",
    "\n",
    "strokes = absolute_to_displacement(strokes)\n"
   ]
  },
  {
   "cell_type": "code",
   "execution_count": 45,
   "metadata": {},
   "outputs": [
    {
     "data": {
      "text/plain": [
       "(267141, 300, 3)"
      ]
     },
     "execution_count": 45,
     "metadata": {},
     "output_type": "execute_result"
    }
   ],
   "source": [
    "strokes.shape"
   ]
  },
  {
   "attachments": {},
   "cell_type": "markdown",
   "metadata": {},
   "source": [
    "Auto-encoder for correcting anomalies"
   ]
  },
  {
   "cell_type": "code",
   "execution_count": 106,
   "metadata": {},
   "outputs": [],
   "source": [
    "import torch\n",
    "from torch.utils.data import Dataset, DataLoader\n",
    "import torch.nn as nn\n",
    "from torch import optim\n",
    "import time\n",
    "import random\n",
    "from pyemd import emd\n",
    "import pysdtw"
   ]
  },
  {
   "cell_type": "code",
   "execution_count": 47,
   "metadata": {},
   "outputs": [],
   "source": [
    "strokes = torch.from_numpy(strokes).float()\n",
    "\n",
    "MAX_STROKE_LEN = 300"
   ]
  },
  {
   "cell_type": "code",
   "execution_count": 107,
   "metadata": {},
   "outputs": [
    {
     "data": {
      "image/png": "[encoded data removed]",
      "text/plain": [
       "<Figure size 800x400 with 2 Axes>"
      ]
     },
     "metadata": {},
     "output_type": "display_data"
    }
   ],
   "source": [
    "def display_strokes(stroke1, stroke2, title = \"Comparison of Two Strokes\"):\n",
    "    fig, (ax1, ax2) = plt.subplots(ncols=2, figsize=(8, 4))\n",
    "\n",
    "    def process_stroke(stroke):\n",
    "        stroke = stroke.numpy()\n",
    "        stroke = stroke[~(np.all(stroke == 0, axis=1))]\n",
    "\n",
    "        # convert displacement to absolute coordinates\n",
    "        stroke = np.cumsum(stroke, axis=0)\n",
    "\n",
    "        x_min, y_min = np.min(stroke[:, :2], axis=0)\n",
    "        x_max, y_max = np.max(stroke[:, :2], axis=0)\n",
    "        scale_factor = 300 / max(x_max - x_min, y_max - y_min)\n",
    "        stroke -= [x_min, y_min, stroke[0, 2]]\n",
    "        stroke *= scale_factor\n",
    "        stroke = stroke[:, :2]\n",
    "        return stroke\n",
    "\n",
    "    # Stroke 1\n",
    "    stroke1 = process_stroke(stroke1)\n",
    "    ax1.plot(stroke1[:, 0], stroke1[:, 1], color='black')\n",
    "    ax1.set_title(\"Input Stroke\")\n",
    "\n",
    "    # Stroke 2\n",
    "    stroke2 = process_stroke(stroke2)\n",
    "    ax2.plot(stroke2[:, 0], stroke2[:, 1], color='black')\n",
    "    ax2.set_title(\"Output Stroke\")\n",
    "\n",
    "    # Set plot title\n",
    "    fig.suptitle(title, fontsize=7)\n",
    "\n",
    "    plt.show()\n",
    "\n",
    "display_strokes(strokes[723], strokes[723])"
   ]
  },
  {
   "cell_type": "code",
   "execution_count": 49,
   "metadata": {},
   "outputs": [],
   "source": [
    "# Dataset\n",
    "\n",
    "class StrokeDataset(Dataset):\n",
    "    def __init__(self, strokes):\n",
    "        self.strokes = strokes\n",
    "\n",
    "    def __len__(self):\n",
    "        return len(self.strokes)\n",
    "\n",
    "    def __getitem__(self, index):\n",
    "        stroke = self.strokes[index]\n",
    "        return stroke, stroke"
   ]
  },
  {
   "cell_type": "code",
   "execution_count": 97,
   "metadata": {},
   "outputs": [],
   "source": [
    "# Modifier layers\n",
    "\n",
    "# LSTM() returns tuple of (tensor, (recurrent state))\n",
    "class extract_tensor(nn.Module):\n",
    "    def forward(self,x):\n",
    "        # Output shape (batch, features, hidden)\n",
    "        tensor, _ = x\n",
    "        # Reshape shape (batch, hidden)\n",
    "        return tensor[:, -1, :]\n",
    "    \n",
    "class NormalizeStrokes(nn.Module):\n",
    "    def __init__(self):\n",
    "        super(NormalizeStrokes, self).__init__()\n",
    "\n",
    "    def forward(self, strokes):\n",
    "        # Orient all the strokes to start from the origin\n",
    "        strokes = strokes - strokes[:,0:1,:]\n",
    "\n",
    "        # Rescale the strokes to have unit norm\n",
    "        means = torch.mean(strokes, axis=(0, 1), keepdim=True)\n",
    "        stds = torch.std(strokes, axis=(0, 1), keepdim=True)\n",
    "        normalized_strokes = (strokes - means) / stds\n",
    "        return normalized_strokes\n",
    "    "
   ]
  },
  {
   "cell_type": "code",
   "execution_count": 118,
   "metadata": {},
   "outputs": [],
   "source": [
    "# Losses\n",
    "\n",
    "\n",
    "class MAELoss(nn.Module):\n",
    "    def __init__(self):\n",
    "        super(MAELoss, self).__init__()\n",
    "        self.normalize = NormalizeStrokes()\n",
    "\n",
    "    def forward(self, output, target):\n",
    "        # Normalize the inputs\n",
    "        target = self.normalize(target)\n",
    "        \n",
    "        # Compute the MSE loss\n",
    "        mse_loss = DTWLoss()(output, target)\n",
    "        return mse_loss\n",
    "\n",
    "\n",
    "class EMDLoss(nn.Module):\n",
    "    def __init__(self, x_weight=1.0, y_weight=1.0, t_weight=0.5):\n",
    "        super(EMDLoss, self).__init__()\n",
    "        self.x_weight = x_weight\n",
    "        self.y_weight = y_weight\n",
    "        self.t_weight = t_weight\n",
    "\n",
    "    def forward(self, stroke1, stroke2):\n",
    "\n",
    "        # Compute the Euclidean distances for each component\n",
    "        x_dist = torch.abs(stroke1[:, :, 0].unsqueeze(2) - stroke2[:, :, 0].unsqueeze(1))\n",
    "        y_dist = torch.abs(stroke1[:, :, 1].unsqueeze(2) - stroke2[:, :, 1].unsqueeze(1))\n",
    "        t_dist = torch.abs(stroke1[:, :, 2].unsqueeze(2) - stroke2[:, :, 2].unsqueeze(1))\n",
    "\n",
    "        # Compute the weights for each component\n",
    "        x_weighted_dist = self.x_weight * x_dist\n",
    "        y_weighted_dist = self.y_weight * y_dist\n",
    "        t_weighted_dist = self.t_weight * t_dist\n",
    "\n",
    "        # Compute the cost matrix for EMD\n",
    "        cost_matrix = x_weighted_dist + y_weighted_dist + t_weighted_dist\n",
    "        cost_matrix = cost_matrix.view(cost_matrix.size(0), -1, cost_matrix.size(2))\n",
    "\n",
    "        # Compute the EMD\n",
    "        emd = torch.ops.transport(\n",
    "            cost_matrix=cost_matrix, \n",
    "            eps=0.05, \n",
    "            max_iter=10000, \n",
    "            verbose=False\n",
    "        )\n",
    "\n",
    "        return emd\n",
    "\n",
    "\n",
    "class DTWLoss(nn.Module):\n",
    "    def __init__(self):\n",
    "        super(DTWLoss, self).__init__()\n",
    "        self.normalize = NormalizeStrokes()\n",
    "        self.sdtw = pysdtw.SoftDTW(gamma=1.0, dist_func='sqeuclidean', use_cuda=False)\n",
    "\n",
    "    def forward(self, x, y):\n",
    "        y = self.normalize(y)\n",
    "\n",
    "        # calculate the Soft-DTW distance\n",
    "        dist = self.sdtw(x, y)\n",
    "        # return the mean distance over the batch\n",
    "        return dist.mean()\n",
    "\n"
   ]
  },
  {
   "cell_type": "code",
   "execution_count": 119,
   "metadata": {},
   "outputs": [],
   "source": [
    "# Autoencoder\n",
    "\n",
    "class StrokeAutoencoder(nn.Module):\n",
    "    def __init__(self, input_dim, hidden_dim, latent_dim):\n",
    "        super(StrokeAutoencoder, self).__init__()\n",
    "        self.input_dim = input_dim\n",
    "        self.hidden_dim = hidden_dim\n",
    "        self.latent_dim = latent_dim\n",
    "\n",
    "        # Encoder layers\n",
    "        self.encoder = nn.Sequential(\n",
    "            NormalizeStrokes(),\n",
    "            nn.LSTM(input_dim, hidden_dim, batch_first=True),\n",
    "            extract_tensor(),\n",
    "            nn.ReLU(),\n",
    "            nn.Linear(hidden_dim, latent_dim),\n",
    "        )\n",
    "\n",
    "        # Decoder layers\n",
    "        self.decoder = nn.Sequential(\n",
    "            nn.LSTM(latent_dim, hidden_dim, batch_first=True),\n",
    "            extract_tensor(),\n",
    "            nn.ReLU(),\n",
    "            nn.Linear(hidden_dim, input_dim * MAX_STROKE_LEN),\n",
    "        )\n",
    "\n",
    "    def forward(self, x):\n",
    "        # Encode the input sequence\n",
    "        latent = self.encoder(x)\n",
    "\n",
    "        # Reshape the hidden state for the decoder\n",
    "        z = latent.view(-1, 1, self.latent_dim)\n",
    "\n",
    "        # Decode the encoded sequence\n",
    "        x_hat = self.decoder(z)\n",
    "        x_hat = x_hat.view(-1, MAX_STROKE_LEN, self.input_dim)\n",
    "\n",
    "        return x_hat\n"
   ]
  },
  {
   "cell_type": "code",
   "execution_count": 120,
   "metadata": {},
   "outputs": [],
   "source": [
    "# Model and dataset properties\n",
    "\n",
    "model = StrokeAutoencoder(input_dim=3, hidden_dim=128, latent_dim=64)\n",
    "\n",
    "dataset = StrokeDataset(strokes)\n",
    "\n",
    "train_size = int(0.8 * len(dataset))\n",
    "val_size = len(dataset) - train_size\n",
    "train_dataset, val_dataset = torch.utils.data.random_split(dataset, [train_size, val_size])\n",
    "\n",
    "# Create a dataset that contains a subset of the data\n",
    "disp_indices = list(range(700, 797))\n",
    "disp_dataset = torch.utils.data.Subset(dataset, disp_indices)\n",
    "\n",
    "train_loader = DataLoader(train_dataset, batch_size=32, shuffle=True)\n",
    "val_loader = DataLoader(val_dataset, batch_size=32, shuffle=False)\n",
    "\n",
    "criterion = DTWLoss()\n",
    "optimizer = optim.Adam(model.parameters(), lr=0.01)"
   ]
  },
  {
   "cell_type": "code",
   "execution_count": 121,
   "metadata": {},
   "outputs": [
    {
     "ename": "TypeError",
     "evalue": "'str' object is not callable",
     "output_type": "error",
     "traceback": [
      "\u001b[1;31m---------------------------------------------------------------------------\u001b[0m",
      "\u001b[1;31mTypeError\u001b[0m                                 Traceback (most recent call last)",
      "Cell \u001b[1;32mIn[121], line 15\u001b[0m\n\u001b[0;32m     13\u001b[0m input_seq, target_seq \u001b[39m=\u001b[39m batch\n\u001b[0;32m     14\u001b[0m output_seq \u001b[39m=\u001b[39m model(input_seq)\n\u001b[1;32m---> 15\u001b[0m loss \u001b[39m=\u001b[39m criterion(output_seq, target_seq)\n\u001b[0;32m     16\u001b[0m loss\u001b[39m.\u001b[39mbackward()\n\u001b[0;32m     17\u001b[0m optimizer\u001b[39m.\u001b[39mstep()\n",
      "File \u001b[1;32mc:\\Users\\joseg\\anaconda3\\envs\\handwriting\\lib\\site-packages\\torch\\nn\\modules\\module.py:1130\u001b[0m, in \u001b[0;36mModule._call_impl\u001b[1;34m(self, *input, **kwargs)\u001b[0m\n\u001b[0;32m   1126\u001b[0m \u001b[39m# If we don't have any hooks, we want to skip the rest of the logic in\u001b[39;00m\n\u001b[0;32m   1127\u001b[0m \u001b[39m# this function, and just call forward.\u001b[39;00m\n\u001b[0;32m   1128\u001b[0m \u001b[39mif\u001b[39;00m \u001b[39mnot\u001b[39;00m (\u001b[39mself\u001b[39m\u001b[39m.\u001b[39m_backward_hooks \u001b[39mor\u001b[39;00m \u001b[39mself\u001b[39m\u001b[39m.\u001b[39m_forward_hooks \u001b[39mor\u001b[39;00m \u001b[39mself\u001b[39m\u001b[39m.\u001b[39m_forward_pre_hooks \u001b[39mor\u001b[39;00m _global_backward_hooks\n\u001b[0;32m   1129\u001b[0m         \u001b[39mor\u001b[39;00m _global_forward_hooks \u001b[39mor\u001b[39;00m _global_forward_pre_hooks):\n\u001b[1;32m-> 1130\u001b[0m     \u001b[39mreturn\u001b[39;00m forward_call(\u001b[39m*\u001b[39m\u001b[39minput\u001b[39m, \u001b[39m*\u001b[39m\u001b[39m*\u001b[39mkwargs)\n\u001b[0;32m   1131\u001b[0m \u001b[39m# Do not call functions when jit is used\u001b[39;00m\n\u001b[0;32m   1132\u001b[0m full_backward_hooks, non_full_backward_hooks \u001b[39m=\u001b[39m [], []\n",
      "Cell \u001b[1;32mIn[118], line 62\u001b[0m, in \u001b[0;36mDTWLoss.forward\u001b[1;34m(self, x, y)\u001b[0m\n\u001b[0;32m     59\u001b[0m y \u001b[39m=\u001b[39m \u001b[39mself\u001b[39m\u001b[39m.\u001b[39mnormalize(y)\n\u001b[0;32m     61\u001b[0m \u001b[39m# calculate the Soft-DTW distance\u001b[39;00m\n\u001b[1;32m---> 62\u001b[0m dist \u001b[39m=\u001b[39m \u001b[39mself\u001b[39;49m\u001b[39m.\u001b[39;49msdtw(x, y)\n\u001b[0;32m     63\u001b[0m \u001b[39m# return the mean distance over the batch\u001b[39;00m\n\u001b[0;32m     64\u001b[0m \u001b[39mreturn\u001b[39;00m dist\u001b[39m.\u001b[39mmean()\n",
      "File \u001b[1;32mc:\\Users\\joseg\\anaconda3\\envs\\handwriting\\lib\\site-packages\\torch\\nn\\modules\\module.py:1130\u001b[0m, in \u001b[0;36mModule._call_impl\u001b[1;34m(self, *input, **kwargs)\u001b[0m\n\u001b[0;32m   1126\u001b[0m \u001b[39m# If we don't have any hooks, we want to skip the rest of the logic in\u001b[39;00m\n\u001b[0;32m   1127\u001b[0m \u001b[39m# this function, and just call forward.\u001b[39;00m\n\u001b[0;32m   1128\u001b[0m \u001b[39mif\u001b[39;00m \u001b[39mnot\u001b[39;00m (\u001b[39mself\u001b[39m\u001b[39m.\u001b[39m_backward_hooks \u001b[39mor\u001b[39;00m \u001b[39mself\u001b[39m\u001b[39m.\u001b[39m_forward_hooks \u001b[39mor\u001b[39;00m \u001b[39mself\u001b[39m\u001b[39m.\u001b[39m_forward_pre_hooks \u001b[39mor\u001b[39;00m _global_backward_hooks\n\u001b[0;32m   1129\u001b[0m         \u001b[39mor\u001b[39;00m _global_forward_hooks \u001b[39mor\u001b[39;00m _global_forward_pre_hooks):\n\u001b[1;32m-> 1130\u001b[0m     \u001b[39mreturn\u001b[39;00m forward_call(\u001b[39m*\u001b[39m\u001b[39minput\u001b[39m, \u001b[39m*\u001b[39m\u001b[39m*\u001b[39mkwargs)\n\u001b[0;32m   1131\u001b[0m \u001b[39m# Do not call functions when jit is used\u001b[39;00m\n\u001b[0;32m   1132\u001b[0m full_backward_hooks, non_full_backward_hooks \u001b[39m=\u001b[39m [], []\n",
      "File \u001b[1;32mc:\\Users\\joseg\\anaconda3\\envs\\handwriting\\lib\\site-packages\\pysdtw\\__init__.py:53\u001b[0m, in \u001b[0;36mSoftDTW.forward\u001b[1;34m(self, X, Y)\u001b[0m\n\u001b[0;32m     43\u001b[0m \u001b[39m\"\"\"Compute the soft-DTW value between X and Y.\u001b[39;00m\n\u001b[0;32m     44\u001b[0m \n\u001b[0;32m     45\u001b[0m \u001b[39mArgs:\u001b[39;00m\n\u001b[1;32m   (...)\u001b[0m\n\u001b[0;32m     50\u001b[0m \u001b[39m    The soft-DTW distance between X and Y of size batch_size.\u001b[39;00m\n\u001b[0;32m     51\u001b[0m \u001b[39m\"\"\"\u001b[39;00m\n\u001b[0;32m     52\u001b[0m X, Y, XY_lengths \u001b[39m=\u001b[39m _prepare_input(X, Y)\n\u001b[1;32m---> 53\u001b[0m XY_D \u001b[39m=\u001b[39m \u001b[39mself\u001b[39;49m\u001b[39m.\u001b[39;49mdist_func(X, Y)\n\u001b[0;32m     54\u001b[0m dtw \u001b[39m=\u001b[39m \u001b[39mself\u001b[39m\u001b[39m.\u001b[39mdtw_func(XY_D, XY_lengths, \u001b[39mself\u001b[39m\u001b[39m.\u001b[39mgamma, \u001b[39mself\u001b[39m\u001b[39m.\u001b[39mbandwidth)\n\u001b[0;32m     56\u001b[0m \u001b[39mreturn\u001b[39;00m dtw\n",
      "\u001b[1;31mTypeError\u001b[0m: 'str' object is not callable"
     ]
    }
   ],
   "source": [
    "# Training loop\n",
    "\n",
    "num_epochs = 10\n",
    "for epoch in range(num_epochs):\n",
    "    train_loss = 0.0\n",
    "    # Training loop\n",
    "    for i, batch in enumerate(train_loader):\n",
    "\n",
    "        #start timer\n",
    "        start = time.time()\n",
    "\n",
    "        optimizer.zero_grad()\n",
    "        input_seq, target_seq = batch\n",
    "        output_seq = model(input_seq)\n",
    "        loss = criterion(output_seq, target_seq)\n",
    "        loss.backward()\n",
    "        optimizer.step()\n",
    "        train_loss += loss.item()\n",
    "\n",
    "\n",
    "        print_every = 10\n",
    "        if (i+1) % print_every == 0:\n",
    "            \n",
    "            # Select a random element from the dataset\n",
    "            random_element = random.choice(disp_dataset)\n",
    "\n",
    "            input_seq, target_seq = random_element\n",
    "            input_seq = input_seq.unsqueeze(0)\n",
    "\n",
    "            # Generate the output sequence using the model\n",
    "            output_seq = model(input_seq)\n",
    "\n",
    "            # print time elapsed after evry batch in format\n",
    "            end = time.time()\n",
    "            print(f\"Batch {i+1}/{len(train_loader)}: {end - start:.4f} seconds\\t Loss: {loss.item():.4f}\")\n",
    "\n",
    "            # Display the input and output strokes for the first sequence in the batch\n",
    "            display_strokes(input_seq[0], output_seq[0].detach(), title=f\"Epoch {epoch+1}/{num_epochs}, Batch {i+1}/{len(train_loader)}: train_loss={train_loss/print_every:.4f}\")\n",
    "            train_loss = 0.0\n",
    "\n",
    "    # Validation loop\n",
    "    with torch.no_grad():\n",
    "        val_loss = 0.0\n",
    "        for batch in val_loader:\n",
    "            input_seq, target_seq = batch\n",
    "            output_seq = model(input_seq)\n",
    "            val_loss += criterion(output_seq, target_seq).item() * input_seq.size(0)\n",
    "        val_loss /= len(val_dataset)\n",
    "\n",
    "    # Print the training and validation losses for each epoch\n",
    "    print(f\"Epoch {epoch+1}/{num_epochs}: train_loss={train_loss/len(train_loader):.4f} val_loss={val_loss:.4f}\")"
   ]
  }
 ],
 "metadata": {
  "kernelspec": {
   "display_name": "handwriting",
   "language": "python",
   "name": "python3"
  },
  "language_info": {
   "codemirror_mode": {
    "name": "ipython",
    "version": 3
   },
   "file_extension": ".py",
   "mimetype": "text/x-python",
   "name": "python",
   "nbconvert_exporter": "python",
   "pygments_lexer": "ipython3",
   "version": "3.9.16"
  },
  "orig_nbformat": 4
 },
 "nbformat": 4,
 "nbformat_minor": 2
}
