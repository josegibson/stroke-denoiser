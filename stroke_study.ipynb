{
 "cells": [
  {
   "attachments": {},
   "cell_type": "markdown",
   "metadata": {},
   "source": [
    "Imports"
   ]
  },
  {
   "cell_type": "code",
   "execution_count": 3,
   "metadata": {},
   "outputs": [],
   "source": [
    "import os\n",
    "import xml.etree.ElementTree as ET\n",
    "import cv2\n",
    "import numpy as np\n",
    "import matplotlib.pyplot as plt\n",
    "import glob\n",
    "\n",
    "#use seaborn for plotting defaults\n",
    "import seaborn as sns; sns.set()"
   ]
  },
  {
   "attachments": {},
   "cell_type": "markdown",
   "metadata": {},
   "source": [
    "Data aquisition"
   ]
  },
  {
   "cell_type": "code",
   "execution_count": 4,
   "metadata": {},
   "outputs": [],
   "source": [
    "def from_folder(folder_path):\n",
    "    strokesets = []\n",
    "    xml_paths = glob.glob(os.path.join(folder_path, \"**/*.xml\"), recursive=True)\n",
    "    for xml_path in xml_paths:\n",
    "        tree = ET.parse(xml_path)\n",
    "        _strokesets = tree.find(\".//StrokeSet\")\n",
    "        strokeSet = [np.array([(float(point.get(\"x\")), float(point.get(\"y\")), float(point.get(\"time\")))\n",
    "                               for point in stroke.findall(\"./Point\")]) for stroke in _strokesets.findall(\"./Stroke\")]\n",
    "        strokesets.append(format_strokeset(strokeSet))\n",
    "    return strokesets\n",
    "\n",
    "def format_strokeset(strokeset):\n",
    "    # compute bbox properties of strokeset\n",
    "    pts = np.concatenate(strokeset, axis=0)  # extract the x,y coordinates\n",
    "    pts = pts.reshape((-1, 3))[:, :2]\n",
    "    x_min, y_min = np.min(pts, axis=0)\n",
    "    x_max, y_max = np.max(pts, axis=0)\n",
    "    w, h = x_max - x_min, y_max - y_min\n",
    "    if w == 0 or h == 0:\n",
    "        return None\n",
    "    \n",
    "    # transform the points in the strokeset so that the top-left of the bbox is their origin\n",
    "    # starting time is set to 0 for that substract the first point time from all points time\n",
    "    for stroke in strokeset:\n",
    "        stroke -= [x_min, y_min, stroke[0, 2]]\n",
    "\n",
    "    return strokeset\n",
    "\n",
    "def display_strokeset(strokeset, scale_factor=0.1, title=\"Strokeset\"):\n",
    "    pts = np.concatenate(strokeset, axis=0)\n",
    "    x_min, y_min = np.min(pts[:, :2], axis=0)\n",
    "    x_max, y_max = np.max(pts[:, :2], axis=0)\n",
    "    w, h = int(scale_factor * (x_max - x_min)), int(scale_factor * (y_max - y_min))\n",
    "    if w == 0 or h == 0:\n",
    "        return\n",
    "    image = np.zeros((h, w), dtype=np.uint8)\n",
    "    pts -= [x_min, y_min, 0]\n",
    "    pts *= scale_factor\n",
    "    pts = pts[:, :2]  # remove the z-dimension\n",
    "    pts = pts.astype(np.int32)\n",
    "    strokes = np.split(pts, np.cumsum([len(s) for s in strokeset[:-1]]))\n",
    "    for stroke in strokes:\n",
    "        cv2.polylines(image, [stroke], isClosed=False, color=255, thickness=2)\n",
    "    cv2.imshow(title, image)\n",
    "    cv2.waitKey(0)\n",
    "    cv2.destroyAllWindows()"
   ]
  },
  {
   "cell_type": "code",
   "execution_count": 5,
   "metadata": {},
   "outputs": [],
   "source": [
    "strokesets = from_folder(\"original\")"
   ]
  },
  {
   "attachments": {},
   "cell_type": "markdown",
   "metadata": {},
   "source": [
    "Preprocessing"
   ]
  },
  {
   "cell_type": "code",
   "execution_count": 105,
   "metadata": {},
   "outputs": [],
   "source": [
    "# convert strokesets to a list of strokes efficiently\n",
    "strokes = []   \n",
    "for strokeset in strokesets:\n",
    "    strokes.extend(strokeset)\n",
    "len(strokes)\n",
    "\n",
    "from collections import Counter\n",
    "\n",
    "lengths = [len(stroke) for stroke in strokes]\n",
    "freq_list = dict(Counter(lengths + [0]))\n",
    "\n",
    "\n",
    "# save the sorted dictionary to txt file\n",
    "with open('strokes_length.txt', 'w') as f:\n",
    "    for key in sorted(freq_list.keys()):\n",
    "        f.write(\"%s %s\\n\"%(key, freq_list[key]))\n",
    "\n",
    "#remove every stroke with length greater than 300 and less than 2\n",
    "strokes = [stroke for stroke in strokes if len(stroke) <= 300 and len(stroke) > 2]\n",
    "\n",
    "# replace every stroke with length less than 300 with a stroke of length 300\n",
    "max_length = 300\n",
    "strokes = np.array([np.concatenate([stroke, np.zeros((max_length - len(stroke), 3))]) for stroke in strokes])\n",
    "\n",
    "def normalize_strokes(strokes):\n",
    "    # Orient all the strokes to start from the origin\n",
    "    strokes = strokes - strokes[:,0:1,:]\n",
    "\n",
    "    # Rescale the strokes to have unit norm\n",
    "    means = np.mean(strokes, axis=(0, 1), keepdims=True)\n",
    "    stds = np.std(strokes, axis=(0, 1), keepdims=True)\n",
    "    normalized_strokes = (strokes - means) / stds\n",
    "    return normalized_strokes\n",
    "\n",
    "strokes = normalize_strokes(strokes)\n"
   ]
  },
  {
   "cell_type": "code",
   "execution_count": 112,
   "metadata": {},
   "outputs": [
    {
     "data": {
      "text/plain": [
       "torch.Size([267141, 300, 3])"
      ]
     },
     "execution_count": 112,
     "metadata": {},
     "output_type": "execute_result"
    }
   ],
   "source": [
    "strokes.shape"
   ]
  },
  {
   "attachments": {},
   "cell_type": "markdown",
   "metadata": {},
   "source": [
    "Auto-encoder for correcting anomalies"
   ]
  },
  {
   "cell_type": "code",
   "execution_count": 113,
   "metadata": {},
   "outputs": [],
   "source": [
    "import torch\n",
    "from torch.utils.data import Dataset, DataLoader\n",
    "import torch.nn as nn\n",
    "from torch import optim\n"
   ]
  },
  {
   "cell_type": "code",
   "execution_count": 111,
   "metadata": {},
   "outputs": [],
   "source": [
    "strokes = torch.from_numpy(strokes).float()"
   ]
  },
  {
   "cell_type": "code",
   "execution_count": null,
   "metadata": {},
   "outputs": [],
   "source": [
    "MAX_STROKE_LEN = 300"
   ]
  },
  {
   "cell_type": "code",
   "execution_count": null,
   "metadata": {},
   "outputs": [],
   "source": [
    "# Dataset\n",
    "\n",
    "class StrokeDataset(Dataset):\n",
    "    def __init__(self, strokes):\n",
    "        self.strokes = strokes\n",
    "\n",
    "    def __len__(self):\n",
    "        return len(self.strokes)\n",
    "\n",
    "    def __getitem__(self, index):\n",
    "        stroke = self.strokes[index]\n",
    "        return stroke, stroke"
   ]
  },
  {
   "cell_type": "code",
   "execution_count": null,
   "metadata": {},
   "outputs": [],
   "source": [
    "# Auto-encoder\n",
    "\n",
    "# LSTM() returns tuple of (tensor, (recurrent state))\n",
    "class extract_tensor(nn.Module):\n",
    "    def forward(self,x):\n",
    "        # Output shape (batch, features, hidden)\n",
    "        tensor, _ = x\n",
    "        # Reshape shape (batch, hidden)\n",
    "        return tensor[:, -1, :]\n",
    "\n",
    "class StrokeAutoencoder(nn.Module):\n",
    "    def __init__(self, input_dim, hidden_dim, latent_dim):\n",
    "        super(StrokeAutoencoder, self).__init__()\n",
    "        self.input_dim = input_dim\n",
    "        self.hidden_dim = hidden_dim\n",
    "        self.latent_dim = latent_dim\n",
    "\n",
    "        # Encoder layers\n",
    "        self.encoder = nn.Sequential(\n",
    "            nn.LSTM(input_dim, hidden_dim, batch_first=True),\n",
    "            extract_tensor(),\n",
    "            nn.ReLU(),\n",
    "            nn.Linear(hidden_dim, latent_dim),\n",
    "            nn.ReLU()\n",
    "        )\n",
    "\n",
    "        # Decoder layers\n",
    "        self.decoder = nn.Sequential(\n",
    "            nn.LSTM(latent_dim, hidden_dim, batch_first=True),\n",
    "            extract_tensor(),\n",
    "            nn.ReLU(),\n",
    "            nn.Linear(hidden_dim, input_dim * MAX_STROKE_LEN),\n",
    "            nn.ReLU()\n",
    "        )\n",
    "\n",
    "    def forward(self, x):\n",
    "        # Encode the input sequence\n",
    "        latent = self.encoder(x)\n",
    "\n",
    "        # Reshape the hidden state for the decoder\n",
    "        z = latent.view(-1, 1, self.latent_dim)\n",
    "\n",
    "        # Decode the encoded sequence\n",
    "        x_hat = self.decoder(z)\n",
    "        x_hat = x_hat.view(-1, MAX_STROKE_LEN, self.input_dim)\n",
    "\n",
    "        return x_hat\n"
   ]
  },
  {
   "cell_type": "code",
   "execution_count": null,
   "metadata": {},
   "outputs": [],
   "source": [
    "# Model and dataset properties\n",
    "\n",
    "model = StrokeAutoencoder(input_dim=3, hidden_dim=128, latent_dim=64)\n",
    "\n",
    "dataset = StrokeDataset(strokes)\n",
    "\n",
    "train_size = int(0.8 * len(dataset))\n",
    "val_size = len(dataset) - train_size\n",
    "train_dataset, val_dataset = torch.utils.data.random_split(dataset, [train_size, val_size])\n",
    "\n",
    "train_loader = DataLoader(train_dataset, batch_size=32, shuffle=True)\n",
    "val_loader = DataLoader(val_dataset, batch_size=32, shuffle=False)\n",
    "\n",
    "criterion = nn.MSELoss()\n",
    "optimizer = optim.Adam(model.parameters(), lr=0.001)"
   ]
  },
  {
   "cell_type": "code",
   "execution_count": null,
   "metadata": {},
   "outputs": [],
   "source": [
    "# Training loop\n",
    "\n",
    "num_epochs = 10\n",
    "for epoch in range(num_epochs):\n",
    "    train_loss = 0.0\n",
    "    # Training loop\n",
    "    for i, batch in enumerate(train_loader):\n",
    "        optimizer.zero_grad()\n",
    "        input_seq, target_seq = batch\n",
    "        output_seq = model(input_seq)\n",
    "        loss = criterion(output_seq, target_seq)\n",
    "        loss.backward()\n",
    "        optimizer.step()\n",
    "        train_loss += loss.item()\n",
    "\n",
    "        print_every = 10\n",
    "        if (i+1) % print_every == 0:\n",
    "            print(f\"Epoch {epoch+1}/{num_epochs}, Batch {i+1}/{len(train_loader)}: train_loss={train_loss/print_every:.4f}\")\n",
    "            train_loss = 0.0\n",
    "\n",
    "    # Validation loop\n",
    "    with torch.no_grad():\n",
    "        val_loss = 0.0\n",
    "        for batch in val_loader:\n",
    "            input_seq, target_seq = batch\n",
    "            output_seq = model(input_seq)\n",
    "            val_loss += criterion(output_seq, target_seq).item() * input_seq.size(0)\n",
    "        val_loss /= len(val_dataset)\n",
    "\n",
    "    # Print the training and validation losses for each epoch\n",
    "    print(f\"Epoch {epoch+1}/{num_epochs}: train_loss={train_loss/len(train_loader):.4f} val_loss={val_loss:.4f}\")"
   ]
  }
 ],
 "metadata": {
  "kernelspec": {
   "display_name": "handwriting",
   "language": "python",
   "name": "python3"
  },
  "language_info": {
   "codemirror_mode": {
    "name": "ipython",
    "version": 3
   },
   "file_extension": ".py",
   "mimetype": "text/x-python",
   "name": "python",
   "nbconvert_exporter": "python",
   "pygments_lexer": "ipython3",
   "version": "3.9.16"
  },
  "orig_nbformat": 4
 },
 "nbformat": 4,
 "nbformat_minor": 2
}
